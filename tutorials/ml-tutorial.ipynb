{
 "cells": [
  {
   "cell_type": "markdown",
   "metadata": {},
   "source": [
    "# Hey John\n",
    "\n",
    "Let's get you familiar with the basics of machine learning. We will start with linear regression, fitting a straight line to a set of data points. We will start by doing it manually, then we will use a library to do it for us.\n",
    "\n",
    "##  Linear Regression"
   ]
  },
  {
   "cell_type": "markdown",
   "metadata": {},
   "source": [
    "### 1) By hand"
   ]
  },
  {
   "cell_type": "markdown",
   "metadata": {},
   "source": [
    "I have written a couple of functions for you to use in this exercise, you can take a look at what they do if you want.\n",
    "\n",
    "The first function is `plot_line`, it takes a slope `m` and an intercept `b` and plots the line `y = mx + b` on a graph.\n",
    "\n",
    "The second function is `generate_line_with_noise`, it takes a slope `m`, an intercept `b`, a number of points to generate `n`, and a noise level `noise`. It generates `n` points on the line `y = mx + b` and adds some random noise to them. It then returns the points x, y.\n",
    "\n",
    "Finally, there is `plot_scatter_points_with_truth_line` which wraps everything up. It takes a slope `m`, an intercept `b`, a number of points to generate `n`, and a noise level `noise`. It generates the points, plots them, and plots the line `y = mx + b` on the same graph.\n",
    "\n",
    "Make sure to run the cell below to load the functions."
   ]
  },
  {
   "cell_type": "code",
   "execution_count": 55,
   "metadata": {
    "tags": []
   },
   "outputs": [
    {
     "name": "stdout",
     "output_type": "stream",
     "text": [
      "Requirement already satisfied: ipywidgets in c:\\users\\colli\\appdata\\roaming\\python\\python310\\site-packages (8.1.0)\n",
      "Requirement already satisfied: traitlets>=4.3.1 in c:\\users\\colli\\appdata\\roaming\\python\\python310\\site-packages (from ipywidgets) (5.1.1)Note: you may need to restart the kernel to use updated packages.\n",
      "Requirement already satisfied: widgetsnbextension~=4.0.7 in c:\\python310\\lib\\site-packages (from ipywidgets) (4.0.8)\n",
      "Requirement already satisfied: ipython>=6.1.0 in c:\\users\\colli\\appdata\\roaming\\python\\python310\\site-packages (from ipywidgets) (7.30.1)\n",
      "Requirement already satisfied: comm>=0.1.3 in c:\\users\\colli\\appdata\\roaming\\python\\python310\\site-packages (from ipywidgets) (0.1.4)\n",
      "Requirement already satisfied: jupyterlab-widgets~=3.0.7 in c:\\python310\\lib\\site-packages (from ipywidgets) (3.0.8)\n",
      "Requirement already satisfied: colorama in c:\\users\\colli\\appdata\\roaming\\python\\python310\\site-packages (from ipython>=6.1.0->ipywidgets) (0.4.4)\n",
      "Requirement already satisfied: backcall in c:\\users\\colli\\appdata\\roaming\\python\\python310\\site-packages (from ipython>=6.1.0->ipywidgets) (0.2.0)\n",
      "Requirement already satisfied: pygments in c:\\python310\\lib\\site-packages (from ipython>=6.1.0->ipywidgets) (2.15.1)\n",
      "Requirement already satisfied: prompt-toolkit!=3.0.0,!=3.0.1,<3.1.0,>=2.0.0 in c:\\users\\colli\\appdata\\roaming\\python\\python310\\site-packages (from ipython>=6.1.0->ipywidgets) (3.0.24)\n",
      "Requirement already satisfied: matplotlib-inline in c:\\users\\colli\\appdata\\roaming\\python\\python310\\site-packages (from ipython>=6.1.0->ipywidgets) (0.1.3)\n",
      "Requirement already satisfied: decorator in c:\\python310\\lib\\site-packages (from ipython>=6.1.0->ipywidgets) (4.4.2)\n",
      "Requirement already satisfied: jedi>=0.16 in c:\\users\\colli\\appdata\\roaming\\python\\python310\\site-packages (from ipython>=6.1.0->ipywidgets) (0.18.1)\n",
      "\n"
     ]
    },
    {
     "name": "stderr",
     "output_type": "stream",
     "text": [
      "WARNING: Ignoring invalid distribution -yboy (c:\\python310\\lib\\site-packages)\n",
      "WARNING: Ignoring invalid distribution -ip (c:\\python310\\lib\\site-packages)\n",
      "WARNING: Ignoring invalid distribution -yboy (c:\\python310\\lib\\site-packages)\n",
      "WARNING: Ignoring invalid distribution -ip (c:\\python310\\lib\\site-packages)\n",
      "WARNING: Ignoring invalid distribution -yboy (c:\\python310\\lib\\site-packages)\n",
      "WARNING: Ignoring invalid distribution -ip (c:\\python310\\lib\\site-packages)\n",
      "WARNING: Ignoring invalid distribution -yboy (c:\\python310\\lib\\site-packages)\n",
      "WARNING: Ignoring invalid distribution -ip (c:\\python310\\lib\\site-packages)\n",
      "WARNING: Ignoring invalid distribution -yboy (c:\\python310\\lib\\site-packages)\n",
      "WARNING: Ignoring invalid distribution -ip (c:\\python310\\lib\\site-packages)\n",
      "WARNING: Ignoring invalid distribution -yboy (c:\\python310\\lib\\site-packages)\n",
      "WARNING: Ignoring invalid distribution -ip (c:\\python310\\lib\\site-packages)\n",
      "WARNING: You are using pip version 21.2.4; however, version 23.2.1 is available.\n",
      "You should consider upgrading via the 'c:\\Python310\\python.exe -m pip install --upgrade pip' command.\n"
     ]
    },
    {
     "name": "stdout",
     "output_type": "stream",
     "text": [
      "Requirement already satisfied: setuptools>=18.5 in c:\\python310\\lib\\site-packages (from ipython>=6.1.0->ipywidgets) (58.1.0)\n",
      "Requirement already satisfied: pickleshare in c:\\users\\colli\\appdata\\roaming\\python\\python310\\site-packages (from ipython>=6.1.0->ipywidgets) (0.7.5)\n",
      "Requirement already satisfied: parso<0.9.0,>=0.8.0 in c:\\users\\colli\\appdata\\roaming\\python\\python310\\site-packages (from jedi>=0.16->ipython>=6.1.0->ipywidgets) (0.8.3)\n",
      "Requirement already satisfied: wcwidth in c:\\users\\colli\\appdata\\roaming\\python\\python310\\site-packages (from prompt-toolkit!=3.0.0,!=3.0.1,<3.1.0,>=2.0.0->ipython>=6.1.0->ipywidgets) (0.2.5)\n"
     ]
    }
   ],
   "source": [
    "%pip install --user ipywidgets\n",
    "from ipywidgets import interact, FloatSlider, fixed\n",
    "import matplotlib.pyplot as plt\n",
    "import numpy as np\n",
    "from functools import partial\n",
    "\n",
    "def plot_line(m, b):\n",
    "    ax = plt.gca()\n",
    "    # Generate x values\n",
    "    x = np.linspace(-10, 10, 100)\n",
    "    # Compute y values according to line formula\n",
    "    y = m*x+b\n",
    "    # Plot the line as a dotted red line\n",
    "    ax.plot(x, y, 'r--')\n",
    "\n",
    "    # Add x and y axes\n",
    "    ax.axhline(y=0, color='k', linewidth=1)\n",
    "    ax.axvline(x=0, color='k', linewidth=1)\n",
    "    # Show the plot\n",
    "    plt.show()\n",
    "\n",
    "def generate_line_with_noise(m, b, n=100, noise=1):\n",
    "    # Generate x values\n",
    "    x = np.linspace(-10, 10, n)\n",
    "    # Generate y values according to line formula and add noise\n",
    "    y = m*x+b+np.random.normal(0, noise, n)\n",
    "    return x, y\n",
    "\n",
    "def plot_scatter_data_with_truth_line(m, b, n=100, noise=1):\n",
    "    # Generate x and y values\n",
    "    x, y = generate_line_with_noise(m, b, n, noise)\n",
    "    # Plot the data as blue dots\n",
    "    plt.scatter(x, y, c='b')\n",
    "    # Plot the line as a dotted red line\n",
    "    plot_line(m, b)"
   ]
  },
  {
   "cell_type": "markdown",
   "metadata": {},
   "source": [
    "Let's start by just doing each step in the data generating process manually. We will start by generating some data points on a line with a slope of 2 and an intercept of 5. We will generate 100 points and add a noise level of 0.5. We will then plot the points and the line.\n",
    "\n",
    "Feel fre to change the slope, intercept, number of points, and noise level to see what happens.\n"
   ]
  },
  {
   "cell_type": "code",
   "execution_count": 56,
   "metadata": {},
   "outputs": [
    {
     "data": {
      "image/png": "[encoded data removed]",
      "text/plain": [
       "<Figure size 432x288 with 1 Axes>"
      ]
     },
     "metadata": {
      "needs_background": "light"
     },
     "output_type": "display_data"
    }
   ],
   "source": [
    "# Start by generating some data with a slope of 2 and a y-intercept of 5\n",
    "x_data, y_data = generate_line_with_noise(m=2, b=5, n=100, noise=0.5)\n",
    "# Plot the data as a scatter plot\n",
    "plt.scatter(x_data, y_data)\n",
    "# Plot the line\n",
    "plot_line(2, 5)"
   ]
  },
  {
   "cell_type": "markdown",
   "metadata": {},
   "source": [
    "Because we are in a jupyter notebook, we can use the `interact` widget to change the parameters and see what happens in realtime. Try it out! \n",
    "\n",
    "If you are interested in reading more about what the `interact` widget can do, check out the [documentation](https://ipywidgets.readthedocs.io/en/latest/examples/Using%20Interact.html). Don't stress about it too much, though."
   ]
  },
  {
   "cell_type": "code",
   "execution_count": 57,
   "metadata": {},
   "outputs": [
    {
     "data": {
      "application/vnd.jupyter.widget-view+json": {
       "model_id": "6d15e77a4d064f1aa6ee66b9ec9f4485",
       "version_major": 2,
       "version_minor": 0
      },
      "text/plain": [
       "interactive(children=(FloatSlider(value=2.0, description='m', max=10.0, min=-10.0, step=0.5), FloatSlider(valu…"
      ]
     },
     "metadata": {},
     "output_type": "display_data"
    },
    {
     "data": {
      "text/plain": [
       "<function __main__.plot_scatter_data_with_truth_line(m, b, n=100, noise=1)>"
      ]
     },
     "execution_count": 57,
     "metadata": {},
     "output_type": "execute_result"
    }
   ],
   "source": [
    "interact(plot_scatter_data_with_truth_line, m=FloatSlider(min=-10, max=10, step=0.5, value=2), b=FloatSlider(min=-10, max=10, step=0.5, value=5), n=fixed(100), noise=FloatSlider(min=0, max=10, step=0.5, value=1))"
   ]
  },
  {
   "cell_type": "markdown",
   "metadata": {},
   "source": [
    "Great! Now we have some data to play with and we want to fit a line to it. We will start by just guessing a line and seeing how good it is. We will then try to improve our guess. We can use the `interact` widget to change the slope and intercept of our guess and see how it changes."
   ]
  },
  {
   "cell_type": "code",
   "execution_count": 58,
   "metadata": {},
   "outputs": [
    {
     "data": {
      "application/vnd.jupyter.widget-view+json": {
       "model_id": "28368ec7f5d64115ae19810d04324312",
       "version_major": 2,
       "version_minor": 0
      },
      "text/plain": [
       "interactive(children=(FloatSlider(value=2.0, description='m_guess', max=10.0, min=-10.0, step=0.01), FloatSlid…"
      ]
     },
     "metadata": {},
     "output_type": "display_data"
    },
    {
     "data": {
      "text/plain": [
       "<function __main__.plot_generated_data_and_best_guess(m_guess, b_guess)>"
      ]
     },
     "execution_count": 58,
     "metadata": {},
     "output_type": "execute_result"
    }
   ],
   "source": [
    "#Let's start by defining a function that plots the generated data, as well as plotting our best guess line.\n",
    "def plot_generated_data_and_best_guess(m_guess, b_guess):\n",
    "    # Plot the data as blue dots\n",
    "    plt.scatter(x_data, y_data, c='b')\n",
    "    # Plot the line as a dotted red line\n",
    "    plot_line(m_guess, b_guess)\n",
    "\n",
    "# generate some data with a slope of 2.34 and a y-intercept of -0.3\n",
    "x_data, y_data = generate_line_with_noise(m=2.34, b=-0.3, n=100, noise=5)\n",
    "\n",
    "\n",
    "interact(plot_generated_data_and_best_guess, m_guess=FloatSlider(min=-10, max=10, step=0.01, value=2), b_guess=FloatSlider(min=-10, max=10, step=0.01, value=5))"
   ]
  },
  {
   "cell_type": "markdown",
   "metadata": {},
   "source": [
    "You were probably able to get a pretty good guess, but did you notice that it's hard to get it perfect, especially when you are close to the correct value? How close is close enough? How do we know when we are done? We need a way to measure how good our guess is. In machine learning, this is called a *metric* and it measures how good our model is. We will use a metric called *mean squared error* (MSE). It is defined as:\n",
    "\n",
    "$$MSE = \\frac{1}{n}\\sum_{i=1}^{n}(y_i - \\hat{y_i})^2$$\n",
    "\n",
    "where $n$ is the number of points, $y_i$ is the actual value of the $i$th point, and $\\hat{y_i}$ is the predicted value of the $i$th point. The lower the MSE, the better the model. We will use this to measure how good our guess is. Let's write a function to calculate the MSE of a guess."
   ]
  },
  {
   "cell_type": "code",
   "execution_count": 59,
   "metadata": {},
   "outputs": [
    {
     "data": {
      "application/vnd.jupyter.widget-view+json": {
       "model_id": "1ab63aac3cc946f89cf97df2b5c35843",
       "version_major": 2,
       "version_minor": 0
      },
      "text/plain": [
       "interactive(children=(FloatSlider(value=2.0, description='m_guess', max=10.0, min=-10.0, step=0.01), FloatSlid…"
      ]
     },
     "metadata": {},
     "output_type": "display_data"
    },
    {
     "data": {
      "text/plain": [
       "<function __main__.plot_generated_data_and_best_guess_and_report_mse(m_guess, b_guess)>"
      ]
     },
     "execution_count": 59,
     "metadata": {},
     "output_type": "execute_result"
    }
   ],
   "source": [
    "def mean_squared_error(y, y_hat):\n",
    "    return np.mean((y - y_hat)**2) # we can replace the sum and divide by n with np.mean, the average\n",
    "\n",
    "# now let's define a function that plots the generated data, as well as plotting our best guess line. and reports the MSE\n",
    "def plot_generated_data_and_best_guess_and_report_mse(m_guess, b_guess):\n",
    "    # Compute the MSE and print it\n",
    "    y_hat = m_guess*x_data+b_guess\n",
    "    mse = mean_squared_error(y_data, y_hat)\n",
    "    plt.title(\"MSE: {}\".format(mse))\n",
    "    # Plot the data as blue dots\n",
    "    plt.scatter(x_data, y_data, c='b')\n",
    "    # Plot the line as a dotted red line\n",
    "    plot_line(m_guess, b_guess)\n",
    "\n",
    "interact(plot_generated_data_and_best_guess_and_report_mse, m_guess=FloatSlider(min=-10, max=10, step=0.01, value=2), b_guess=FloatSlider(min=-10, max=10, step=0.01, value=5))"
   ]
  },
  {
   "cell_type": "markdown",
   "metadata": {},
   "source": [
    "### 2) Using a library\n",
    "\n",
    "OK, so now we can evaluate how good our guess is numerically. This is really critical when the situation becomes more complex and we can no longer tell by eye how well we are doing. But we are still doing everything by hand. Let's use a library to do it for us. The library we will use is called `scikit-learn` and it has a function called `LinearRegression` that will do the heavy lifting for us. We will use it to fit a line to our data and see how well it does. Take a look at the documentation for `LinearRegression` [here](https://scikit-learn.org/stable/modules/generated/sklearn.linear_model.LinearRegression.html)."
   ]
  },
  {
   "cell_type": "code",
   "execution_count": 60,
   "metadata": {},
   "outputs": [
    {
     "name": "stdout",
     "output_type": "stream",
     "text": [
      "Slope: 2.3597137016033387\n",
      "Intercept: -0.965007493905169\n",
      "MSE: 28.170138886510014\n"
     ]
    },
    {
     "data": {
      "image/png": "[encoded data removed]",
      "text/plain": [
       "<Figure size 432x288 with 1 Axes>"
      ]
     },
     "metadata": {
      "needs_background": "light"
     },
     "output_type": "display_data"
    }
   ],
   "source": [
    "from sklearn.linear_model import LinearRegression\n",
    "\n",
    "# Create a linear regression object\n",
    "lr = LinearRegression()\n",
    "# The linear regression object is an estimator. Estimators have a fit method that takes a dataset (usually X and y) and fits the model to the data.\n",
    "# but first we need to reshape our data to be a matrix of n rows and 1 column fitting the pattern of n samples and m features\n",
    "x_data = x_data.reshape(len(x_data), 1)\n",
    "# Fit the linear regression to the data\n",
    "lr.fit(x_data, y_data)\n",
    "# Print the slope and y-intercept\n",
    "print(f\"Slope: {lr.coef_[0]}\")\n",
    "print(f\"Intercept: {lr.intercept_}\")\n",
    "# Compute the mean squared error\n",
    "y_hat = lr.predict(x_data)\n",
    "print(f\"MSE: {mean_squared_error(y_data, y_hat)}\")\n",
    "\n",
    "# plot the data and the line\n",
    "plt.scatter(x_data, y_data, c='b')\n",
    "plot_line(lr.coef_[0], lr.intercept_)"
   ]
  },
  {
   "cell_type": "markdown",
   "metadata": {},
   "source": [
    "You may be noticing that the slope and intercept values that it finds are different from what we originally put in. This is because of the noise we added to the data. The noise makes it impossible to find the exact slope and intercept. We can see that the MSE is pretty low, so it is doing a good job of fitting the line. Got back up to the previous cell and change the noise level to see how it affects the MSE. You should see that adding more noise makes the MSE go up and the slope and intercept values get further from the true values and vice-versa for less noise."
   ]
  },
  {
   "cell_type": "markdown",
   "metadata": {},
   "source": [
    "### 3) Nonlinear fits\n",
    "\n",
    "What happens if your data aren't just a line, but have some nonlinear component, like $y = x^2 + 2x + 5$? Let's generate some data like that and see what happens."
   ]
  },
  {
   "cell_type": "code",
   "execution_count": 61,
   "metadata": {},
   "outputs": [
    {
     "data": {
      "text/plain": [
       "<matplotlib.collections.PathCollection at 0x1b76b174eb0>"
      ]
     },
     "execution_count": 61,
     "metadata": {},
     "output_type": "execute_result"
    },
    {
     "data": {
      "image/png": "[encoded data removed]",
      "text/plain": [
       "<Figure size 432x288 with 1 Axes>"
      ]
     },
     "metadata": {
      "needs_background": "light"
     },
     "output_type": "display_data"
    }
   ],
   "source": [
    "# First define a function to generate the data according to y = x^2 + mx + b\n",
    "def generate_quadratic_data(m, b, n=100, noise=1):\n",
    "    # Generate x values\n",
    "    x = np.linspace(-10, 10, n)\n",
    "    # Generate y values according to line formula and add noise\n",
    "    y = x**2+m*x+b+np.random.normal(0, noise, n)\n",
    "    return x, y\n",
    "\n",
    "# Now let's generate some data with a quadratic relationship\n",
    "x_data, y_data = generate_quadratic_data(m=2, b=5, n=100, noise=10)\n",
    "# Plot the data\n",
    "plt.scatter(x_data, y_data)\n"
   ]
  },
  {
   "cell_type": "markdown",
   "metadata": {},
   "source": [
    "Definitely not a line, but lets see what happens if we try to fit a line to it."
   ]
  },
  {
   "cell_type": "code",
   "execution_count": 62,
   "metadata": {},
   "outputs": [
    {
     "name": "stdout",
     "output_type": "stream",
     "text": [
      "Slope: 1.9579823635714964\n",
      "Intercept: 40.67781222462521\n",
      "MSE: 976.5536313426413\n"
     ]
    },
    {
     "data": {
      "image/png": "[encoded data removed]",
      "text/plain": [
       "<Figure size 432x288 with 1 Axes>"
      ]
     },
     "metadata": {
      "needs_background": "light"
     },
     "output_type": "display_data"
    }
   ],
   "source": [
    "# Using the same linear regression object as before, we can fit a line to the data\n",
    "lr.fit(x_data.reshape(len(x_data), 1), y_data)\n",
    "\n",
    "# Print the slope and y-intercept\n",
    "print(f\"Slope: {lr.coef_[0]}\")\n",
    "print(f\"Intercept: {lr.intercept_}\")\n",
    "# Compute the mean squared error\n",
    "y_hat = lr.predict(x_data.reshape(len(x_data), 1))\n",
    "print(f\"MSE: {mean_squared_error(y_data, y_hat)}\")\n",
    "\n",
    "# Plot the data and the line\n",
    "plt.scatter(x_data, y_data, c='b')\n",
    "plot_line(lr.coef_[0], lr.intercept_)\n"
   ]
  },
  {
   "cell_type": "markdown",
   "metadata": {},
   "source": [
    "It did the best that it could, but it's not a great fit. Kinda like fitting a square peg into a round hole. This brings up the next machine learning idea, *selecting your model*. Often, in physics especially, we know the functional form of our data: this one is quadratic, decay rates are described with an exponential, etc. In general, though, we don't know the functional form of our data. We have to try different models and see which one works best. We will talk more about this later. For now, let's try a quadratic model."
   ]
  },
  {
   "cell_type": "code",
   "execution_count": 66,
   "metadata": {},
   "outputs": [
    {
     "data": {
      "application/vnd.jupyter.widget-view+json": {
       "model_id": "7a6474fed7594031b7225dcf99661ea0",
       "version_major": 2,
       "version_minor": 0
      },
      "text/plain": [
       "interactive(children=(FloatSlider(value=5.0, description='m_guess', max=10.0, min=-10.0, step=0.01), FloatSlid…"
      ]
     },
     "metadata": {},
     "output_type": "display_data"
    },
    {
     "data": {
      "text/plain": [
       "<function __main__.plot_generated_data_and_best_guess_model_report_MSE(m_guess, b_guess)>"
      ]
     },
     "execution_count": 66,
     "metadata": {},
     "output_type": "execute_result"
    }
   ],
   "source": [
    "# let's start by hand, we should make a function that plots our model\n",
    "def plot_quadratic_model(m,b):\n",
    "    x = np.linspace(-10, 10, 100)\n",
    "    y = x**2+m*x+b\n",
    "    plt.plot(x, y, 'r--')\n",
    "\n",
    "# Now let's define a function that plots the generated data, as well as plotting our best guess model\n",
    "def plot_generated_data_and_best_guess_model_report_MSE(m_guess, b_guess):\n",
    "    # Compute the MSE and print it\n",
    "    y_hat = x_data**2+m_guess*x_data+b_guess\n",
    "    mse = mean_squared_error(y_data, y_hat)\n",
    "    plt.title(\"MSE: {}\".format(mse))\n",
    "    # Plot the data as blue dots\n",
    "    plt.scatter(x_data, y_data, c='b')\n",
    "    # Plot the line as a dotted red line\n",
    "    plot_quadratic_model(m_guess, b_guess)\n",
    "\n",
    "interact(plot_generated_data_and_best_guess_model_report_MSE, m_guess=FloatSlider(min=-10, max=10, step=0.01, value=5), b_guess=FloatSlider(min=-10, max=10, step=0.01, value=1))"
   ]
  },
  {
   "cell_type": "markdown",
   "metadata": {},
   "source": [
    "Nice! Some observations: \n",
    "1) The MSE doesn't get as small as it does in the linear fit case, this is related to the fact that the quadratic function amplifies the noise to make the error larger. \n",
    "2) It's harder to tell by eye how good the fit is. This is where the MSE comes in handy.\n",
    "\n",
    "Now let's see a library tackle the problem. We can't use `LinearRegression` anymore, because it only fits lines. So we will jump into the really powerful stuff and introduce the machine learning framework called PyTorch. This is wayyy overkill and is a very complicated library, so don't feel bad if you don't understand it right away, but I want to intrduce it so we can use it for your project. We will use it to fit a line and a quadratic to our data and see how well it does."
   ]
  },
  {
   "cell_type": "code",
   "execution_count": null,
   "metadata": {},
   "outputs": [],
   "source": []
  }
 ],
 "metadata": {
  "kernelspec": {
   "display_name": "Python 3",
   "language": "python",
   "name": "python3"
  },
  "language_info": {
   "codemirror_mode": {
    "name": "ipython",
    "version": 3
   },
   "file_extension": ".py",
   "mimetype": "text/x-python",
   "name": "python",
   "nbconvert_exporter": "python",
   "pygments_lexer": "ipython3",
   "version": "3.10.2"
  },
  "orig_nbformat": 4
 },
 "nbformat": 4,
 "nbformat_minor": 2
}
