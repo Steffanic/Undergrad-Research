{
 "cells": [
  {
   "cell_type": "markdown",
   "metadata": {},
   "source": [
    "# Hey John\n",
    "\n",
    "Let's get you familiar with the basics of machine learning. We will start with linear regression, fitting a straight line to a set of data points. We will start by doing it manually, then we will use a library to do it for us.\n",
    "\n",
    "##  Linear Regression"
   ]
  },
  {
   "cell_type": "markdown",
   "metadata": {},
   "source": [
    "### 1) By hand"
   ]
  },
  {
   "cell_type": "markdown",
   "metadata": {},
   "source": [
    "I have written a couple of functions for you to use in this exercise, you can take a look at what they do if you want.\n",
    "\n",
    "The first function is `plot_line`, it takes a slope `m` and an intercept `b` and plots the line `y = mx + b` on a graph.\n",
    "\n",
    "The second function is `generate_line_with_noise`, it takes a slope `m`, an intercept `b`, a number of points to generate `n`, and a noise level `noise`. It generates `n` points on the line `y = mx + b` and adds some random noise to them. It then returns the points x, y.\n",
    "\n",
    "Finally, there is `plot_scatter_points_with_truth_line` which wraps everything up. It takes a slope `m`, an intercept `b`, a number of points to generate `n`, and a noise level `noise`. It generates the points, plots them, and plots the line `y = mx + b` on the same graph.\n",
    "\n",
    "Make sure to run the cell below to load the functions."
   ]
  },
  {
   "cell_type": "code",
   "execution_count": 51,
   "metadata": {
    "tags": []
   },
   "outputs": [
    {
     "name": "stdout",
     "output_type": "stream",
     "text": [
      "Requirement already satisfied: ipywidgets in c:\\users\\colli\\appdata\\roaming\\python\\python310\\site-packages (8.1.0)\n",
      "Requirement already satisfied: traitlets>=4.3.1 in c:\\users\\colli\\appdata\\roaming\\python\\python310\\site-packages (from ipywidgets) (5.1.1)\n",
      "Requirement already satisfied: ipython>=6.1.0 in c:\\users\\colli\\appdata\\roaming\\python\\python310\\site-packages (from ipywidgets) (7.30.1)\n",
      "Requirement already satisfied: widgetsnbextension~=4.0.7 in c:\\python310\\lib\\site-packages (from ipywidgets) (4.0.8)\n",
      "Requirement already satisfied: jupyterlab-widgets~=3.0.7 in c:\\python310\\lib\\site-packages (from ipywidgets) (3.0.8)\n",
      "Requirement already satisfied: comm>=0.1.3 in c:\\users\\colli\\appdata\\roaming\\python\\python310\\site-packages (from ipywidgets) (0.1.4)\n",
      "Requirement already satisfied: matplotlib-inline in c:\\users\\colli\\appdata\\roaming\\python\\python310\\site-packages (from ipython>=6.1.0->ipywidgets) (0.1.3)\n",
      "Requirement already satisfied: pickleshare in c:\\users\\colli\\appdata\\roaming\\python\\python310\\site-packages (from ipython>=6.1.0->ipywidgets) (0.7.5)\n",
      "Requirement already satisfied: jedi>=0.16 in c:\\users\\colli\\appdata\\roaming\\python\\python310\\site-packages (from ipython>=6.1.0->ipywidgets) (0.18.1)\n",
      "Requirement already satisfied: pygments in c:\\python310\\lib\\site-packages (from ipython>=6.1.0->ipywidgets) (2.15.1)\n",
      "Requirement already satisfied: prompt-toolkit!=3.0.0,!=3.0.1,<3.1.0,>=2.0.0 in c:\\users\\colli\\appdata\\roaming\\python\\python310\\site-packages (from ipython>=6.1.0->ipywidgets) (3.0.24)\n",
      "Requirement already satisfied: decorator in c:\\python310\\lib\\site-packages (from ipython>=6.1.0->ipywidgets) (4.4.2)\n",
      "Requirement already satisfied: setuptools>=18.5 in c:\\python310\\lib\\site-packages (from ipython>=6.1.0->ipywidgets) (58.1.0)\n",
      "Requirement already satisfied: backcall in c:\\users\\colli\\appdata\\roaming\\python\\python310\\site-packages (from ipython>=6.1.0->ipywidgets) (0.2.0)\n",
      "Requirement already satisfied: colorama in c:\\users\\colli\\appdata\\roaming\\python\\python310\\site-packages (from ipython>=6.1.0->ipywidgets) (0.4.4)\n",
      "Requirement already satisfied: parso<0.9.0,>=0.8.0 in c:\\users\\colli\\appdata\\roaming\\python\\python310\\site-packages (from jedi>=0.16->ipython>=6.1.0->ipywidgets) (0.8.3)\n",
      "Requirement already satisfied: wcwidth in c:\\users\\colli\\appdata\\roaming\\python\\python310\\site-packages (from prompt-toolkit!=3.0.0,!=3.0.1,<3.1.0,>=2.0.0->ipython>=6.1.0->ipywidgets) (0.2.5)\n",
      "Note: you may need to restart the kernel to use updated packages.\n"
     ]
    },
    {
     "name": "stderr",
     "output_type": "stream",
     "text": [
      "WARNING: Ignoring invalid distribution -yboy (c:\\python310\\lib\\site-packages)\n",
      "WARNING: Ignoring invalid distribution -ip (c:\\python310\\lib\\site-packages)\n",
      "WARNING: Ignoring invalid distribution -yboy (c:\\python310\\lib\\site-packages)\n",
      "WARNING: Ignoring invalid distribution -ip (c:\\python310\\lib\\site-packages)\n",
      "WARNING: Ignoring invalid distribution -yboy (c:\\python310\\lib\\site-packages)\n",
      "WARNING: Ignoring invalid distribution -ip (c:\\python310\\lib\\site-packages)\n",
      "WARNING: Ignoring invalid distribution -yboy (c:\\python310\\lib\\site-packages)\n",
      "WARNING: Ignoring invalid distribution -ip (c:\\python310\\lib\\site-packages)\n",
      "WARNING: Ignoring invalid distribution -yboy (c:\\python310\\lib\\site-packages)\n",
      "WARNING: Ignoring invalid distribution -ip (c:\\python310\\lib\\site-packages)\n",
      "WARNING: Ignoring invalid distribution -yboy (c:\\python310\\lib\\site-packages)\n",
      "WARNING: Ignoring invalid distribution -ip (c:\\python310\\lib\\site-packages)\n",
      "WARNING: You are using pip version 21.2.4; however, version 23.2.1 is available.\n",
      "You should consider upgrading via the 'c:\\Python310\\python.exe -m pip install --upgrade pip' command.\n"
     ]
    }
   ],
   "source": [
    "%pip install --user ipywidgets\n",
    "from ipywidgets import interact, FloatSlider, fixed\n",
    "from IPython.display import clear_output\n",
    "from time import sleep\n",
    "import matplotlib.pyplot as plt\n",
    "import numpy as np\n",
    "from functools import partial\n",
    "\n",
    "def plot_line(m, b):\n",
    "    ax = plt.gca()\n",
    "    # Generate x values\n",
    "    x = np.linspace(-10, 10, 100)\n",
    "    # Compute y values according to line formula\n",
    "    y = m*x+b\n",
    "    # Plot the line as a dotted red line\n",
    "    ax.plot(x, y, 'r--')\n",
    "\n",
    "    # Add x and y axes\n",
    "    ax.axhline(y=0, color='k', linewidth=1)\n",
    "    ax.axvline(x=0, color='k', linewidth=1)\n",
    "    # Show the plot\n",
    "    plt.show()\n",
    "\n",
    "def generate_line_with_noise(m, b, n=100, noise=1):\n",
    "    # Generate x values\n",
    "    x = np.linspace(-10, 10, n)\n",
    "    # Generate y values according to line formula and add noise\n",
    "    y = m*x+b+np.random.normal(0, noise, n)\n",
    "    return x, y\n",
    "\n",
    "def plot_scatter_data_with_truth_line(m, b, n=100, noise=1):\n",
    "    # Generate x and y values\n",
    "    x, y = generate_line_with_noise(m, b, n, noise)\n",
    "    # Plot the data as blue dots\n",
    "    plt.scatter(x, y, c='b')\n",
    "    # Plot the line as a dotted red line\n",
    "    plot_line(m, b)"
   ]
  },
  {
   "cell_type": "markdown",
   "metadata": {},
   "source": [
    "Let's start by just doing each step in the data generating process manually. We will start by generating some data points on a line with a slope of 2 and an intercept of 5. We will generate 100 points and add a noise level of 0.5. We will then plot the points and the line.\n",
    "\n",
    "Feel fre to change the slope, intercept, number of points, and noise level to see what happens.\n"
   ]
  },
  {
   "cell_type": "code",
   "execution_count": 52,
   "metadata": {},
   "outputs": [
    {
     "data": {
      "image/png": "[encoded data removed]",
      "text/plain": [
       "<Figure size 432x288 with 1 Axes>"
      ]
     },
     "metadata": {
      "needs_background": "light"
     },
     "output_type": "display_data"
    }
   ],
   "source": [
    "# Start by generating some data with a slope of 2 and a y-intercept of 5\n",
    "x_data, y_data = generate_line_with_noise(m=2, b=5, n=100, noise=0.5)\n",
    "# Plot the data as a scatter plot\n",
    "plt.scatter(x_data, y_data)\n",
    "# Plot the line\n",
    "plot_line(2, 5)"
   ]
  },
  {
   "cell_type": "markdown",
   "metadata": {},
   "source": [
    "Because we are in a jupyter notebook, we can use the `interact` widget to change the parameters and see what happens in realtime. Try it out! \n",
    "\n",
    "If you are interested in reading more about what the `interact` widget can do, check out the [documentation](https://ipywidgets.readthedocs.io/en/latest/examples/Using%20Interact.html). Don't stress about it too much, though."
   ]
  },
  {
   "cell_type": "code",
   "execution_count": 53,
   "metadata": {},
   "outputs": [
    {
     "data": {
      "application/vnd.jupyter.widget-view+json": {
       "model_id": "25197c2a87e9477d927cb4ebd9017c0e",
       "version_major": 2,
       "version_minor": 0
      },
      "text/plain": [
       "interactive(children=(FloatSlider(value=2.0, description='m', max=10.0, min=-10.0, step=0.5), FloatSlider(valu…"
      ]
     },
     "metadata": {},
     "output_type": "display_data"
    },
    {
     "data": {
      "text/plain": [
       "<function __main__.plot_scatter_data_with_truth_line(m, b, n=100, noise=1)>"
      ]
     },
     "execution_count": 53,
     "metadata": {},
     "output_type": "execute_result"
    }
   ],
   "source": [
    "interact(plot_scatter_data_with_truth_line, m=FloatSlider(min=-10, max=10, step=0.5, value=2), b=FloatSlider(min=-10, max=10, step=0.5, value=5), n=fixed(100), noise=FloatSlider(min=0, max=10, step=0.5, value=1))"
   ]
  },
  {
   "cell_type": "markdown",
   "metadata": {},
   "source": [
    "Great! Now we have some data to play with and we want to fit a line to it. We will start by just guessing a line and seeing how good it is. We will then try to improve our guess. We can use the `interact` widget to change the slope and intercept of our guess and see how it changes."
   ]
  },
  {
   "cell_type": "code",
   "execution_count": 54,
   "metadata": {},
   "outputs": [
    {
     "data": {
      "application/vnd.jupyter.widget-view+json": {
       "model_id": "ca23c0d3b56245949fc495c240543c3f",
       "version_major": 2,
       "version_minor": 0
      },
      "text/plain": [
       "interactive(children=(FloatSlider(value=2.0, description='m_guess', max=10.0, min=-10.0, step=0.01), FloatSlid…"
      ]
     },
     "metadata": {},
     "output_type": "display_data"
    },
    {
     "data": {
      "text/plain": [
       "<function __main__.plot_generated_data_and_best_guess(m_guess, b_guess)>"
      ]
     },
     "execution_count": 54,
     "metadata": {},
     "output_type": "execute_result"
    }
   ],
   "source": [
    "#Let's start by defining a function that plots the generated data, as well as plotting our best guess line.\n",
    "def plot_generated_data_and_best_guess(m_guess, b_guess):\n",
    "    # Plot the data as blue dots\n",
    "    plt.scatter(x_data, y_data, c='b')\n",
    "    # Plot the line as a dotted red line\n",
    "    plot_line(m_guess, b_guess)\n",
    "\n",
    "# generate some data with a slope of 2.34 and a y-intercept of -0.3\n",
    "x_data, y_data = generate_line_with_noise(m=2.34, b=-0.3, n=100, noise=5)\n",
    "\n",
    "\n",
    "interact(plot_generated_data_and_best_guess, m_guess=FloatSlider(min=-10, max=10, step=0.01, value=2), b_guess=FloatSlider(min=-10, max=10, step=0.01, value=5))"
   ]
  },
  {
   "cell_type": "markdown",
   "metadata": {},
   "source": [
    "You were probably able to get a pretty good guess, but did you notice that it's hard to get it perfect, especially when you are close to the correct value? How close is close enough? How do we know when we are done? We need a way to measure how good our guess is. In machine learning, this is called a *metric* and it measures how good our model is. We will use a metric called *mean squared error* (MSE). It is defined as:\n",
    "\n",
    "$$MSE = \\frac{1}{n}\\sum_{i=1}^{n}(y_i - \\hat{y_i})^2$$\n",
    "\n",
    "where $n$ is the number of points, $y_i$ is the actual value of the $i$th point, and $\\hat{y_i}$ is the predicted value of the $i$th point. The lower the MSE, the better the model. We will use this to measure how good our guess is. Let's write a function to calculate the MSE of a guess."
   ]
  },
  {
   "cell_type": "code",
   "execution_count": 55,
   "metadata": {},
   "outputs": [
    {
     "data": {
      "application/vnd.jupyter.widget-view+json": {
       "model_id": "62441e380ba04dcf88dc94673e4ea450",
       "version_major": 2,
       "version_minor": 0
      },
      "text/plain": [
       "interactive(children=(FloatSlider(value=2.0, description='m_guess', max=10.0, min=-10.0, step=0.01), FloatSlid…"
      ]
     },
     "metadata": {},
     "output_type": "display_data"
    },
    {
     "data": {
      "text/plain": [
       "<function __main__.plot_generated_data_and_best_guess_and_report_mse(m_guess, b_guess)>"
      ]
     },
     "execution_count": 55,
     "metadata": {},
     "output_type": "execute_result"
    }
   ],
   "source": [
    "def mean_squared_error(y, y_hat):\n",
    "    return np.mean((y - y_hat)**2) # we can replace the sum and divide by n with np.mean, the average\n",
    "\n",
    "# now let's define a function that plots the generated data, as well as plotting our best guess line. and reports the MSE\n",
    "def plot_generated_data_and_best_guess_and_report_mse(m_guess, b_guess):\n",
    "    # Compute the MSE and print it\n",
    "    y_hat = m_guess*x_data+b_guess\n",
    "    mse = mean_squared_error(y_data, y_hat)\n",
    "    plt.title(\"MSE: {}\".format(mse))\n",
    "    # Plot the data as blue dots\n",
    "    plt.scatter(x_data, y_data, c='b')\n",
    "    # Plot the line as a dotted red line\n",
    "    plot_line(m_guess, b_guess)\n",
    "\n",
    "interact(plot_generated_data_and_best_guess_and_report_mse, m_guess=FloatSlider(min=-10, max=10, step=0.01, value=2), b_guess=FloatSlider(min=-10, max=10, step=0.01, value=5))"
   ]
  },
  {
   "cell_type": "markdown",
   "metadata": {},
   "source": [
    "### 2) Using a library\n",
    "\n",
    "OK, so now we can evaluate how good our guess is numerically. This is really critical when the situation becomes more complex and we can no longer tell by eye how well we are doing. But we are still doing everything by hand. Let's use a library to do it for us. The library we will use is called `scikit-learn` and it has a function called `LinearRegression` that will do the heavy lifting for us. We will use it to fit a line to our data and see how well it does. Take a look at the documentation for `LinearRegression` [here](https://scikit-learn.org/stable/modules/generated/sklearn.linear_model.LinearRegression.html)."
   ]
  },
  {
   "cell_type": "code",
   "execution_count": 56,
   "metadata": {},
   "outputs": [
    {
     "name": "stdout",
     "output_type": "stream",
     "text": [
      "Slope: 2.4106395803278042\n",
      "Intercept: -0.6909489912273483\n",
      "MSE: 25.413087766290783\n"
     ]
    },
    {
     "data": {
      "image/png": "[encoded data removed]",
      "text/plain": [
       "<Figure size 432x288 with 1 Axes>"
      ]
     },
     "metadata": {
      "needs_background": "light"
     },
     "output_type": "display_data"
    }
   ],
   "source": [
    "from sklearn.linear_model import LinearRegression\n",
    "\n",
    "# Create a linear regression object\n",
    "lr = LinearRegression()\n",
    "# The linear regression object is an estimator. Estimators have a fit method that takes a dataset (usually X and y) and fits the model to the data.\n",
    "# but first we need to reshape our data to be a matrix of n rows and 1 column fitting the pattern of n samples and m features\n",
    "x_data = x_data.reshape(len(x_data), 1)\n",
    "# Fit the linear regression to the data\n",
    "lr.fit(x_data, y_data)\n",
    "# Print the slope and y-intercept\n",
    "print(f\"Slope: {lr.coef_[0]}\")\n",
    "print(f\"Intercept: {lr.intercept_}\")\n",
    "# Compute the mean squared error\n",
    "y_hat = lr.predict(x_data)\n",
    "print(f\"MSE: {mean_squared_error(y_data, y_hat)}\")\n",
    "\n",
    "# plot the data and the line\n",
    "plt.scatter(x_data, y_data, c='b')\n",
    "plot_line(lr.coef_[0], lr.intercept_)"
   ]
  },
  {
   "cell_type": "markdown",
   "metadata": {},
   "source": [
    "You may be noticing that the slope and intercept values that it finds are different from what we originally put in. This is because of the noise we added to the data. The noise makes it impossible to find the exact slope and intercept. We can see that the MSE is pretty low, so it is doing a good job of fitting the line. Got back up to the previous cell and change the noise level to see how it affects the MSE. You should see that adding more noise makes the MSE go up and the slope and intercept values get further from the true values and vice-versa for less noise."
   ]
  },
  {
   "cell_type": "markdown",
   "metadata": {},
   "source": [
    "### 3) Nonlinear fits\n",
    "\n",
    "What happens if your data aren't just a line, but have some nonlinear component, like $y = x^2 + 2x + 5$? Let's generate some data like that and see what happens."
   ]
  },
  {
   "cell_type": "code",
   "execution_count": 57,
   "metadata": {},
   "outputs": [
    {
     "data": {
      "text/plain": [
       "<matplotlib.collections.PathCollection at 0x15e64341120>"
      ]
     },
     "execution_count": 57,
     "metadata": {},
     "output_type": "execute_result"
    },
    {
     "data": {
      "image/png": "[encoded data removed]",
      "text/plain": [
       "<Figure size 432x288 with 1 Axes>"
      ]
     },
     "metadata": {
      "needs_background": "light"
     },
     "output_type": "display_data"
    }
   ],
   "source": [
    "# First define a function to generate the data according to y = x^2 + mx + b\n",
    "def generate_quadratic_data(m, b, n=100, noise=1):\n",
    "    # Generate x values\n",
    "    x = np.linspace(-10, 10, n)\n",
    "    # Generate y values according to line formula and add noise\n",
    "    y = x**2+m*x+b+np.random.normal(0, noise, n)\n",
    "    return x, y\n",
    "\n",
    "# Now let's generate some data with a quadratic relationship\n",
    "x_data, y_data = generate_quadratic_data(m=2, b=5, n=100, noise=10)\n",
    "# Plot the data\n",
    "plt.scatter(x_data, y_data)\n"
   ]
  },
  {
   "cell_type": "markdown",
   "metadata": {},
   "source": [
    "Definitely not a line, but lets see what happens if we try to fit a line to it."
   ]
  },
  {
   "cell_type": "code",
   "execution_count": 58,
   "metadata": {},
   "outputs": [
    {
     "name": "stdout",
     "output_type": "stream",
     "text": [
      "Slope: 2.22476848272883\n",
      "Intercept: 37.015703153258016\n",
      "MSE: 976.8643396992687\n"
     ]
    },
    {
     "data": {
      "image/png": "[encoded data removed]",
      "text/plain": [
       "<Figure size 432x288 with 1 Axes>"
      ]
     },
     "metadata": {
      "needs_background": "light"
     },
     "output_type": "display_data"
    }
   ],
   "source": [
    "# Using the same linear regression object as before, we can fit a line to the data\n",
    "lr.fit(x_data.reshape(len(x_data), 1), y_data)\n",
    "\n",
    "# Print the slope and y-intercept\n",
    "print(f\"Slope: {lr.coef_[0]}\")\n",
    "print(f\"Intercept: {lr.intercept_}\")\n",
    "# Compute the mean squared error\n",
    "y_hat = lr.predict(x_data.reshape(len(x_data), 1))\n",
    "print(f\"MSE: {mean_squared_error(y_data, y_hat)}\")\n",
    "\n",
    "# Plot the data and the line\n",
    "plt.scatter(x_data, y_data, c='b')\n",
    "plot_line(lr.coef_[0], lr.intercept_)\n"
   ]
  },
  {
   "cell_type": "markdown",
   "metadata": {},
   "source": [
    "It did the best that it could, but it's not a great fit. Kinda like fitting a square peg into a round hole. This brings up the next machine learning idea, *selecting your model*. Often, in physics especially, we know the functional form of our data: this one is quadratic, decay rates are described with an exponential, etc. In general, though, we don't know the functional form of our data. We have to try different models and see which one works best. We will talk more about this later. For now, let's try a quadratic model."
   ]
  },
  {
   "cell_type": "code",
   "execution_count": 59,
   "metadata": {},
   "outputs": [
    {
     "data": {
      "application/vnd.jupyter.widget-view+json": {
       "model_id": "75098bd964094deda3e65221d49e9f2f",
       "version_major": 2,
       "version_minor": 0
      },
      "text/plain": [
       "interactive(children=(FloatSlider(value=5.0, description='m_guess', max=10.0, min=-10.0, step=0.01), FloatSlid…"
      ]
     },
     "metadata": {},
     "output_type": "display_data"
    },
    {
     "data": {
      "text/plain": [
       "<function __main__.plot_generated_data_and_best_guess_model_report_MSE(m_guess, b_guess)>"
      ]
     },
     "execution_count": 59,
     "metadata": {},
     "output_type": "execute_result"
    }
   ],
   "source": [
    "# let's start by hand, we should make a function that plots our model\n",
    "def plot_quadratic_model(m,b):\n",
    "    x = np.linspace(-10, 10, 100)\n",
    "    y = x**2+m*x+b\n",
    "    plt.plot(x, y, 'r--')\n",
    "\n",
    "# Now let's define a function that plots the generated data, as well as plotting our best guess model\n",
    "def plot_generated_data_and_best_guess_model_report_MSE(m_guess, b_guess):\n",
    "    # Compute the MSE and print it\n",
    "    y_hat = x_data**2+m_guess*x_data+b_guess\n",
    "    mse = mean_squared_error(y_data, y_hat)\n",
    "    plt.title(\"MSE: {}\".format(mse))\n",
    "    # Plot the data as blue dots\n",
    "    plt.scatter(x_data, y_data, c='b')\n",
    "    # Plot the line as a dotted red line\n",
    "    plot_quadratic_model(m_guess, b_guess)\n",
    "\n",
    "interact(plot_generated_data_and_best_guess_model_report_MSE, m_guess=FloatSlider(min=-10, max=10, step=0.01, value=5), b_guess=FloatSlider(min=-10, max=10, step=0.01, value=1))"
   ]
  },
  {
   "cell_type": "markdown",
   "metadata": {},
   "source": [
    "Nice! Some observations: \n",
    "1) The MSE doesn't get as small as it does in the linear fit case, this is related to the fact that the quadratic function amplifies the noise to make the error larger. \n",
    "2) It's harder to tell by eye how good the fit is. This is where the MSE comes in handy.\n",
    "\n",
    "Now let's see a library tackle the problem. We can't use `LinearRegression` anymore, because it only fits lines. So we will jump into the really powerful stuff and introduce the machine learning framework called PyTorch. This is wayyy overkill and is a very complicated library, so don't feel bad if you don't understand it right away, but I want to intrduce it so we can use it for your project. We will use it to fit a line and a quadratic to our data and see how well it does."
   ]
  },
  {
   "cell_type": "markdown",
   "metadata": {},
   "source": [
    "### PyTorch\n",
    "\n",
    "PyTorch is a machine learning framework that is very popular in the machine learning community. It is very powerful and can do a lot of things, but we will only use it for a few things. Don't feel like you need to fully understand what's going on, just try to get the functional aspect of how to do the things that we are doing here and you will learn more as time goes on. Ask lots of questions! I don't fully understand everything that's going on here either, so we can learn together. 😁\n",
    "\n",
    "The first thing we need to do is import the library. We are going to learn aspects of it step-by-step, so we will import the parts that we need as we go. The first thing we need is the `torch` module, which is the main module of PyTorch. \n"
   ]
  },
  {
   "cell_type": "code",
   "execution_count": 60,
   "metadata": {},
   "outputs": [],
   "source": [
    "import torch"
   ]
  },
  {
   "cell_type": "markdown",
   "metadata": {},
   "source": [
    "In PyTorch, we work with tensors. Tensors are not that complicated, they are just the general term that encompasses scalars(0D Tensor), vectors(1D Tensor), matrices(2D Tensor), and higher dimensional arrays. In Physics, we play with tensors all the time and especially in higher level classes like General Relativity and Quantum Field Theory, everything is a tensor. So we are already familiar with tensors, we just didn't call them that. In PyTorch, we use tensors to represent our data. We will start by creating a tensor to represent our x value. We will use the `torch.tensor` function to create a tensor. We will then print it out to see what it looks like."
   ]
  },
  {
   "cell_type": "code",
   "execution_count": 61,
   "metadata": {},
   "outputs": [
    {
     "name": "stdout",
     "output_type": "stream",
     "text": [
      "tensor(3., requires_grad=True)\n"
     ]
    }
   ],
   "source": [
    "x_data = torch.tensor(3.0, requires_grad=True) # we need to tell pytorch to track the gradient of x_data\n",
    "\n",
    "print(x_data)\n"
   ]
  },
  {
   "cell_type": "markdown",
   "metadata": {},
   "source": [
    "The real magic of PyTorch is that, when we do math with tensors, it tracks each operation that we do and allows us to *automatically differentiate* the result. Let's see that in action:"
   ]
  },
  {
   "cell_type": "code",
   "execution_count": 62,
   "metadata": {},
   "outputs": [
    {
     "name": "stdout",
     "output_type": "stream",
     "text": [
      "tensor(8.)\n"
     ]
    }
   ],
   "source": [
    "y_data = x_data**2+2*x_data+5\n",
    "\n",
    "#plt.plot(x_data, y_data)\n",
    "\n",
    "# ask pytorch to compute the gradients of y \n",
    "y_data.backward()\n",
    "\n",
    "gradient_y_with_respect_to_x = x_data.grad\n",
    "print(gradient_y_with_respect_to_x)"
   ]
  },
  {
   "cell_type": "markdown",
   "metadata": {},
   "source": [
    "OK, so not very verbose, lets work through the math and check it out:\n",
    "\n",
    "$$y = x^2 + 2x + 5$$\n",
    "\n",
    "$$\\frac{dy}{dx} = 2x + 2$$\n",
    "\n",
    "$$\\frac{dy}{dx}\\bigg|_{x=3} = 8$$\n",
    "\n",
    "Well, what do you know! It works! There are many caveats that you will probably run into, though. Let's talk about some of them:\n",
    "You may have noticed that we only used a single value for x. What if we want to use a vector of x values? Let's try it out."
   ]
  },
  {
   "cell_type": "code",
   "execution_count": 63,
   "metadata": {},
   "outputs": [
    {
     "ename": "RuntimeError",
     "evalue": "grad can be implicitly created only for scalar outputs",
     "output_type": "error",
     "traceback": [
      "\u001b[1;31m---------------------------------------------------------------------------\u001b[0m",
      "\u001b[1;31mRuntimeError\u001b[0m                              Traceback (most recent call last)",
      "\u001b[1;32m~\\AppData\\Local\\Temp/ipykernel_23872/3987170512.py\u001b[0m in \u001b[0;36m<module>\u001b[1;34m\u001b[0m\n\u001b[0;32m      1\u001b[0m \u001b[0mx\u001b[0m \u001b[1;33m=\u001b[0m \u001b[0mtorch\u001b[0m\u001b[1;33m.\u001b[0m\u001b[0mtensor\u001b[0m\u001b[1;33m(\u001b[0m\u001b[1;33m[\u001b[0m\u001b[1;36m3.0\u001b[0m\u001b[1;33m,\u001b[0m \u001b[1;36m4.0\u001b[0m\u001b[1;33m,\u001b[0m \u001b[1;36m5.0\u001b[0m\u001b[1;33m]\u001b[0m\u001b[1;33m,\u001b[0m \u001b[0mrequires_grad\u001b[0m\u001b[1;33m=\u001b[0m\u001b[1;32mTrue\u001b[0m\u001b[1;33m)\u001b[0m\u001b[1;33m\u001b[0m\u001b[1;33m\u001b[0m\u001b[0m\n\u001b[0;32m      2\u001b[0m \u001b[0my_truth\u001b[0m \u001b[1;33m=\u001b[0m \u001b[0mx\u001b[0m\u001b[1;33m**\u001b[0m\u001b[1;36m2\u001b[0m\u001b[1;33m+\u001b[0m\u001b[1;36m2\u001b[0m\u001b[1;33m*\u001b[0m\u001b[0mx\u001b[0m\u001b[1;33m+\u001b[0m\u001b[1;36m5\u001b[0m\u001b[1;33m\u001b[0m\u001b[1;33m\u001b[0m\u001b[0m\n\u001b[1;32m----> 3\u001b[1;33m \u001b[0my_truth\u001b[0m\u001b[1;33m.\u001b[0m\u001b[0mbackward\u001b[0m\u001b[1;33m(\u001b[0m\u001b[1;33m)\u001b[0m\u001b[1;33m\u001b[0m\u001b[1;33m\u001b[0m\u001b[0m\n\u001b[0m\u001b[0;32m      4\u001b[0m \u001b[0mprint\u001b[0m\u001b[1;33m(\u001b[0m\u001b[0mx\u001b[0m\u001b[1;33m.\u001b[0m\u001b[0mgrad\u001b[0m\u001b[1;33m)\u001b[0m\u001b[1;33m\u001b[0m\u001b[1;33m\u001b[0m\u001b[0m\n",
      "\u001b[1;32mc:\\Python310\\lib\\site-packages\\torch\\_tensor.py\u001b[0m in \u001b[0;36mbackward\u001b[1;34m(self, gradient, retain_graph, create_graph, inputs)\u001b[0m\n\u001b[0;32m    394\u001b[0m                 \u001b[0mcreate_graph\u001b[0m\u001b[1;33m=\u001b[0m\u001b[0mcreate_graph\u001b[0m\u001b[1;33m,\u001b[0m\u001b[1;33m\u001b[0m\u001b[1;33m\u001b[0m\u001b[0m\n\u001b[0;32m    395\u001b[0m                 inputs=inputs)\n\u001b[1;32m--> 396\u001b[1;33m         \u001b[0mtorch\u001b[0m\u001b[1;33m.\u001b[0m\u001b[0mautograd\u001b[0m\u001b[1;33m.\u001b[0m\u001b[0mbackward\u001b[0m\u001b[1;33m(\u001b[0m\u001b[0mself\u001b[0m\u001b[1;33m,\u001b[0m \u001b[0mgradient\u001b[0m\u001b[1;33m,\u001b[0m \u001b[0mretain_graph\u001b[0m\u001b[1;33m,\u001b[0m \u001b[0mcreate_graph\u001b[0m\u001b[1;33m,\u001b[0m \u001b[0minputs\u001b[0m\u001b[1;33m=\u001b[0m\u001b[0minputs\u001b[0m\u001b[1;33m)\u001b[0m\u001b[1;33m\u001b[0m\u001b[1;33m\u001b[0m\u001b[0m\n\u001b[0m\u001b[0;32m    397\u001b[0m \u001b[1;33m\u001b[0m\u001b[0m\n\u001b[0;32m    398\u001b[0m     \u001b[1;32mdef\u001b[0m \u001b[0mregister_hook\u001b[0m\u001b[1;33m(\u001b[0m\u001b[0mself\u001b[0m\u001b[1;33m,\u001b[0m \u001b[0mhook\u001b[0m\u001b[1;33m)\u001b[0m\u001b[1;33m:\u001b[0m\u001b[1;33m\u001b[0m\u001b[1;33m\u001b[0m\u001b[0m\n",
      "\u001b[1;32mc:\\Python310\\lib\\site-packages\\torch\\autograd\\__init__.py\u001b[0m in \u001b[0;36mbackward\u001b[1;34m(tensors, grad_tensors, retain_graph, create_graph, grad_variables, inputs)\u001b[0m\n\u001b[0;32m    164\u001b[0m \u001b[1;33m\u001b[0m\u001b[0m\n\u001b[0;32m    165\u001b[0m     \u001b[0mgrad_tensors_\u001b[0m \u001b[1;33m=\u001b[0m \u001b[0m_tensor_or_tensors_to_tuple\u001b[0m\u001b[1;33m(\u001b[0m\u001b[0mgrad_tensors\u001b[0m\u001b[1;33m,\u001b[0m \u001b[0mlen\u001b[0m\u001b[1;33m(\u001b[0m\u001b[0mtensors\u001b[0m\u001b[1;33m)\u001b[0m\u001b[1;33m)\u001b[0m\u001b[1;33m\u001b[0m\u001b[1;33m\u001b[0m\u001b[0m\n\u001b[1;32m--> 166\u001b[1;33m     \u001b[0mgrad_tensors_\u001b[0m \u001b[1;33m=\u001b[0m \u001b[0m_make_grads\u001b[0m\u001b[1;33m(\u001b[0m\u001b[0mtensors\u001b[0m\u001b[1;33m,\u001b[0m \u001b[0mgrad_tensors_\u001b[0m\u001b[1;33m,\u001b[0m \u001b[0mis_grads_batched\u001b[0m\u001b[1;33m=\u001b[0m\u001b[1;32mFalse\u001b[0m\u001b[1;33m)\u001b[0m\u001b[1;33m\u001b[0m\u001b[1;33m\u001b[0m\u001b[0m\n\u001b[0m\u001b[0;32m    167\u001b[0m     \u001b[1;32mif\u001b[0m \u001b[0mretain_graph\u001b[0m \u001b[1;32mis\u001b[0m \u001b[1;32mNone\u001b[0m\u001b[1;33m:\u001b[0m\u001b[1;33m\u001b[0m\u001b[1;33m\u001b[0m\u001b[0m\n\u001b[0;32m    168\u001b[0m         \u001b[0mretain_graph\u001b[0m \u001b[1;33m=\u001b[0m \u001b[0mcreate_graph\u001b[0m\u001b[1;33m\u001b[0m\u001b[1;33m\u001b[0m\u001b[0m\n",
      "\u001b[1;32mc:\\Python310\\lib\\site-packages\\torch\\autograd\\__init__.py\u001b[0m in \u001b[0;36m_make_grads\u001b[1;34m(outputs, grads, is_grads_batched)\u001b[0m\n\u001b[0;32m     65\u001b[0m             \u001b[1;32mif\u001b[0m \u001b[0mout\u001b[0m\u001b[1;33m.\u001b[0m\u001b[0mrequires_grad\u001b[0m\u001b[1;33m:\u001b[0m\u001b[1;33m\u001b[0m\u001b[1;33m\u001b[0m\u001b[0m\n\u001b[0;32m     66\u001b[0m                 \u001b[1;32mif\u001b[0m \u001b[0mout\u001b[0m\u001b[1;33m.\u001b[0m\u001b[0mnumel\u001b[0m\u001b[1;33m(\u001b[0m\u001b[1;33m)\u001b[0m \u001b[1;33m!=\u001b[0m \u001b[1;36m1\u001b[0m\u001b[1;33m:\u001b[0m\u001b[1;33m\u001b[0m\u001b[1;33m\u001b[0m\u001b[0m\n\u001b[1;32m---> 67\u001b[1;33m                     \u001b[1;32mraise\u001b[0m \u001b[0mRuntimeError\u001b[0m\u001b[1;33m(\u001b[0m\u001b[1;34m\"grad can be implicitly created only for scalar outputs\"\u001b[0m\u001b[1;33m)\u001b[0m\u001b[1;33m\u001b[0m\u001b[1;33m\u001b[0m\u001b[0m\n\u001b[0m\u001b[0;32m     68\u001b[0m                 \u001b[0mnew_grads\u001b[0m\u001b[1;33m.\u001b[0m\u001b[0mappend\u001b[0m\u001b[1;33m(\u001b[0m\u001b[0mtorch\u001b[0m\u001b[1;33m.\u001b[0m\u001b[0mones_like\u001b[0m\u001b[1;33m(\u001b[0m\u001b[0mout\u001b[0m\u001b[1;33m,\u001b[0m \u001b[0mmemory_format\u001b[0m\u001b[1;33m=\u001b[0m\u001b[0mtorch\u001b[0m\u001b[1;33m.\u001b[0m\u001b[0mpreserve_format\u001b[0m\u001b[1;33m)\u001b[0m\u001b[1;33m)\u001b[0m\u001b[1;33m\u001b[0m\u001b[1;33m\u001b[0m\u001b[0m\n\u001b[0;32m     69\u001b[0m             \u001b[1;32melse\u001b[0m\u001b[1;33m:\u001b[0m\u001b[1;33m\u001b[0m\u001b[1;33m\u001b[0m\u001b[0m\n",
      "\u001b[1;31mRuntimeError\u001b[0m: grad can be implicitly created only for scalar outputs"
     ]
    }
   ],
   "source": [
    "x = torch.tensor([3.0, 4.0, 5.0], requires_grad=True)\n",
    "y_truth = x**2+2*x+5\n",
    "y_truth.backward()\n",
    "print(x.grad)"
   ]
  },
  {
   "cell_type": "markdown",
   "metadata": {},
   "source": [
    "Oh no! A RuntimeError: grad can be implicitly created only for scalar outputs! What does that mean? Well the idea here is that x is now a vector, it isn't correct to think about it as a list of data points anymore. So when we want to take the derivative of y with respect to x, we have to specify the direction we want to take the derivative in! This is the notion of directional derivatives, $\\nabla_{\\vec{v}}$ from Calculus 3: Multivariate Calculus. The \"Gradient\" or $\\nabla$ is the directional derivative in the direction of each axis. In other words, the direction vector is \n",
    "\n",
    "$$\\vec{v} = \\begin{bmatrix}1\\\\1\\\\1\\end{bmatrix}$$\n",
    "\n",
    "Let's see how that translates into code."
   ]
  },
  {
   "cell_type": "code",
   "execution_count": 64,
   "metadata": {},
   "outputs": [
    {
     "name": "stdout",
     "output_type": "stream",
     "text": [
      "tensor([ 8., 10., 12.])\n"
     ]
    }
   ],
   "source": [
    "x = torch.tensor([3.0, 4.0, 5.0], requires_grad=True)\n",
    "y_truth = x**2+2*x+5  \n",
    "y_truth.backward(torch.tensor([1.0, 1.0, 1.0])) # here is where we specify the direction that we want to take the derivative in \n",
    "print(x.grad)"
   ]
  },
  {
   "cell_type": "markdown",
   "metadata": {},
   "source": [
    "Pretty cool, eh? This is the real power of PyTorch. It allows us to do complicated math and then take the derivative of the result with respect to any of the variables that we used in the calculation. This is called *automatic differentiation* and it is the basis of machine learning. We will use it to fit a line and a quadratic to our data and see how well it does. But how exactly does taking the derivative help us fit a line? Well, the simple fact is that the derivative of a function is 0 at a minimum or maximum. So if we take the derivative of the MSE with respect to the slope and intercept, we can find the values that minimize the MSE, and therefore give us the best fit available. However, because this doesn't provide a closed form solution, we have to use a method called *gradient descent* to find the minimum. The idea is that the gradient of a function points in the direction of steepest ascent, so if we take a step in the opposite direction, we will move towards the minimum. We will use this method to fit a line and a quadratic to our data and see how well it does."
   ]
  },
  {
   "cell_type": "code",
   "execution_count": 86,
   "metadata": {},
   "outputs": [
    {
     "data": {
      "text/plain": [
       "[<matplotlib.lines.Line2D at 0x15e66b76350>]"
      ]
     },
     "execution_count": 86,
     "metadata": {},
     "output_type": "execute_result"
    },
    {
     "data": {
      "image/png": "[encoded data removed]",
      "text/plain": [
       "<Figure size 432x288 with 1 Axes>"
      ]
     },
     "metadata": {
      "needs_background": "light"
     },
     "output_type": "display_data"
    }
   ],
   "source": [
    "# first we need to generate some data and put it in a tensor x \n",
    "x = torch.linspace(-10, 10, 100)\n",
    "\n",
    "# now we can generate our truth data with some noise representing measurement error\n",
    "y_truth = 3*x**2+2*x+5 + torch.randn(100)*10 # we add some noise to make it more interesting, but we don't want to track the gradient of the noise which why we didn't make a noise tensor first\n",
    "\n",
    "# let's plot our model to see what it looks like. In order to do this we have to convert our tensors to numpy arrays using tensor.detach().numpy()\n",
    "\n",
    "plt.plot(x.detach().numpy(), y_truth.detach().numpy(), 'b.')"
   ]
  },
  {
   "cell_type": "code",
   "execution_count": 89,
   "metadata": {},
   "outputs": [],
   "source": [
    "# looks like what we expect to see, now let's fit a model to it\n",
    "\n",
    "# first we need to define our model parameters, m and b. We do this separately from y so that PyTorch can track their gradient\n",
    "a = torch.tensor(1.0, requires_grad=True)\n",
    "m = torch.tensor(1.0, requires_grad=True)\n",
    "b = torch.tensor(25.0, requires_grad=True)\n",
    "\n",
    "# now we can define our model\n",
    "y_hat = a*x**2 + m*x+b\n",
    "\n",
    "# and finally we can compute the loss, which is the MSE, telling us how close we are to the right answer\n",
    "loss = torch.mean((y_truth-y_hat)**2)"
   ]
  },
  {
   "cell_type": "code",
   "execution_count": 93,
   "metadata": {},
   "outputs": [
    {
     "name": "stdout",
     "output_type": "stream",
     "text": [
      "True a: 3, True m: 2, True b: 5, Best guess a: 2.7077066898345947, Best guess m: 2.0014545917510986, Best guess b: 24.197032928466797\n",
      "Loss at iteration 111: 295.8863525390625\n"
     ]
    },
    {
     "data": {
      "image/png": "[encoded data removed]",
      "text/plain": [
       "<Figure size 432x288 with 1 Axes>"
      ]
     },
     "metadata": {
      "needs_background": "light"
     },
     "output_type": "display_data"
    },
    {
     "ename": "KeyboardInterrupt",
     "evalue": "",
     "output_type": "error",
     "traceback": [
      "\u001b[1;31m---------------------------------------------------------------------------\u001b[0m",
      "\u001b[1;31mKeyboardInterrupt\u001b[0m                         Traceback (most recent call last)",
      "\u001b[1;32m~\\AppData\\Local\\Temp/ipykernel_23872/2767765825.py\u001b[0m in \u001b[0;36m<module>\u001b[1;34m\u001b[0m\n\u001b[0;32m     30\u001b[0m         \u001b[0mplt\u001b[0m\u001b[1;33m.\u001b[0m\u001b[0mplot\u001b[0m\u001b[1;33m(\u001b[0m\u001b[0mx\u001b[0m\u001b[1;33m.\u001b[0m\u001b[0mdetach\u001b[0m\u001b[1;33m(\u001b[0m\u001b[1;33m)\u001b[0m\u001b[1;33m.\u001b[0m\u001b[0mnumpy\u001b[0m\u001b[1;33m(\u001b[0m\u001b[1;33m)\u001b[0m\u001b[1;33m,\u001b[0m \u001b[0my_hat\u001b[0m\u001b[1;33m.\u001b[0m\u001b[0mdetach\u001b[0m\u001b[1;33m(\u001b[0m\u001b[1;33m)\u001b[0m\u001b[1;33m.\u001b[0m\u001b[0mnumpy\u001b[0m\u001b[1;33m(\u001b[0m\u001b[1;33m)\u001b[0m\u001b[1;33m,\u001b[0m \u001b[1;34m'r--'\u001b[0m\u001b[1;33m)\u001b[0m\u001b[1;33m\u001b[0m\u001b[1;33m\u001b[0m\u001b[0m\n\u001b[0;32m     31\u001b[0m         \u001b[0mplt\u001b[0m\u001b[1;33m.\u001b[0m\u001b[0mshow\u001b[0m\u001b[1;33m(\u001b[0m\u001b[1;33m)\u001b[0m\u001b[1;33m\u001b[0m\u001b[1;33m\u001b[0m\u001b[0m\n\u001b[1;32m---> 32\u001b[1;33m         \u001b[0msleep\u001b[0m\u001b[1;33m(\u001b[0m\u001b[1;36m.1\u001b[0m\u001b[1;33m)\u001b[0m\u001b[1;33m\u001b[0m\u001b[1;33m\u001b[0m\u001b[0m\n\u001b[0m\u001b[0;32m     33\u001b[0m         \u001b[0mclear_output\u001b[0m\u001b[1;33m(\u001b[0m\u001b[0mwait\u001b[0m\u001b[1;33m=\u001b[0m\u001b[1;32mTrue\u001b[0m\u001b[1;33m)\u001b[0m\u001b[1;33m\u001b[0m\u001b[1;33m\u001b[0m\u001b[0m\n",
      "\u001b[1;31mKeyboardInterrupt\u001b[0m: "
     ]
    }
   ],
   "source": [
    "# Finally let's make a gradient descent loop to fit our model to the data\n",
    "# The algorithm is roughly as follows:\n",
    "# 1. Compute the gradient of the loss with respect to the model parameters\n",
    "# 2. Update the model parameters by subtracting the gradient times a learning rate(some small number so that each change to our parameters is small)\n",
    "# 3. Repeat until the loss is small enough\n",
    "\n",
    "# first we need to define a learning rate, this is called a *hyperparameter* because it is a parameter of the model that we have to choose ourselves, the best learning rate cannot be inferred from the data.\n",
    "learning_rate = 0.0001\n",
    "plt.ion() # this tells matplotlib to update the plot as we go\n",
    "# now we can define our gradient descent loop\n",
    "for i in range(1000):\n",
    "    # compute the loss\n",
    "    y_hat = a*x**2 + m*x+b\n",
    "    loss = torch.mean((y_truth-y_hat)**2)\n",
    "    # compute the gradient\n",
    "    loss.backward() #because the loss is a scalar(due to the averaging) we don't need to specify a direction\n",
    "    # update the parameters\n",
    "    a.data -= learning_rate*a.grad # we need to use .data to access the underlying tensor\n",
    "    m.data -= learning_rate*m.grad # we need to use .data to access the underlying tensor\n",
    "    b.data -= learning_rate*b.grad # we subtract because we want to go in the opposite direction of the gradient\n",
    "    # zero the gradients so that they don't accumulate, PyTorch will keep track of repeated calculations of the gradient if we don't zero it\n",
    "    a.grad.zero_()\n",
    "    m.grad.zero_()\n",
    "    b.grad.zero_()\n",
    "    # print the loss and clear the output so that we can see the loss decreasing\n",
    "    if i%3==0:\n",
    "        print(f\"True a: 3, True m: 2, True b: 5, Best guess a: {a}, Best guess m: {m}, Best guess b: {b}\")\n",
    "        print(f\"Loss at iteration {i}: {loss}\")\n",
    "        plt.plot(x.detach().numpy(), y_truth.detach().numpy(), 'b.')\n",
    "        plt.plot(x.detach().numpy(), y_hat.detach().numpy(), 'r--')\n",
    "        plt.show()\n",
    "        sleep(.1)\n",
    "        clear_output(wait=True)\n"
   ]
  },
  {
   "cell_type": "markdown",
   "metadata": {},
   "source": [
    "Sorry for the flashing, but I wanted you to see the curve being fit in real time! Go back and change the initial values for a, m, and b and see how it affects the fit. Change the learning rate and see how that affects the fit. Ask some questions at this point!\n",
    "\n",
    "If you have made it this far and you don't feel completely lost, congratulations!! There is so much more to learn about PyTorch and you can take a look at the documentation if you like: https://pytorch.org/docs/stable/index.html. But for now, you've done an amazing job! Feel free to try and run some of your own PyTorch experiments and google the shit out of any tutorials that may look interesting. Chat GPT is one of the best resources for figuring out how to do things as well. As the semester goes on we will introduce you to new things in preparation for the big project that you will help out with! We are very excited to be working with you!"
   ]
  },
  {
   "cell_type": "markdown",
   "metadata": {},
   "source": []
  }
 ],
 "metadata": {
  "kernelspec": {
   "display_name": "Python 3",
   "language": "python",
   "name": "python3"
  },
  "language_info": {
   "codemirror_mode": {
    "name": "ipython",
    "version": 3
   },
   "file_extension": ".py",
   "mimetype": "text/x-python",
   "name": "python",
   "nbconvert_exporter": "python",
   "pygments_lexer": "ipython3",
   "version": "3.10.2"
  },
  "orig_nbformat": 4
 },
 "nbformat": 4,
 "nbformat_minor": 2
}
